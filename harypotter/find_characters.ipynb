{
 "cells": [
  {
   "cell_type": "code",
   "execution_count": 2,
   "id": "31f0fe90",
   "metadata": {},
   "outputs": [],
   "source": [
    "import os"
   ]
  },
  {
   "cell_type": "code",
   "execution_count": 3,
   "id": "d2ad8086",
   "metadata": {},
   "outputs": [],
   "source": [
    "hary_potter_books = 'Harry-Potter' \n",
    "hary_potter_books_names = os.listdir(hary_potter_books)"
   ]
  },
  {
   "cell_type": "code",
   "execution_count": 4,
   "id": "e65110c3",
   "metadata": {},
   "outputs": [
    {
     "data": {
      "text/plain": [
       "['Book1.txt',\n",
       " 'Book2.txt',\n",
       " 'Book3.txt',\n",
       " 'Book4.txt',\n",
       " 'Book5.txt',\n",
       " 'Book6.txt',\n",
       " 'Book7.txt']"
      ]
     },
     "execution_count": 4,
     "metadata": {},
     "output_type": "execute_result"
    }
   ],
   "source": [
    "\n",
    "hary_potter_books_names = list(filter(lambda f: f.endswith('.txt') ,hary_potter_books_names))\n",
    "hary_potter_books_names"
   ]
  },
  {
   "cell_type": "code",
   "execution_count": 5,
   "id": "a3389832",
   "metadata": {},
   "outputs": [
    {
     "data": {
      "text/plain": [
       "['Harry-Potter\\\\Book1.txt',\n",
       " 'Harry-Potter\\\\Book2.txt',\n",
       " 'Harry-Potter\\\\Book3.txt',\n",
       " 'Harry-Potter\\\\Book4.txt',\n",
       " 'Harry-Potter\\\\Book5.txt',\n",
       " 'Harry-Potter\\\\Book6.txt',\n",
       " 'Harry-Potter\\\\Book7.txt']"
      ]
     },
     "execution_count": 5,
     "metadata": {},
     "output_type": "execute_result"
    }
   ],
   "source": [
    "hary_potter_books_paths = [os.path.join(hary_potter_books, name) for name in hary_potter_books_names ]\n",
    "hary_potter_books_paths\n"
   ]
  },
  {
   "cell_type": "code",
   "execution_count": 6,
   "id": "a3851080",
   "metadata": {},
   "outputs": [],
   "source": [
    "characters= ['Grawp','Aragog', 'Harry Potter','Moaning Myrtle','Hedwig', 'Fluffy', 'Dobby', 'Regulus Arcturus Black',\n",
    "             'Cho Chang','Vincent Crabbe Sr.', 'Vincent Crabbe', 'Cedric Diggory']"
   ]
  },
  {
   "cell_type": "code",
   "execution_count": 28,
   "id": "0dffb80a",
   "metadata": {},
   "outputs": [
    {
     "name": "stdout",
     "output_type": "stream",
     "text": [
      "Book1 [0, 0, 373, 0, 13, 26, 0, 0, 0, 0, 0, 0]\n",
      "Book2 [0, 19, 449, 19, 20, 1, 151, 0, 0, 0, 0, 0]\n",
      "Book3 [0, 0, 496, 0, 36, 0, 0, 0, 3, 0, 1, 4]\n",
      "Book4 [0, 0, 895, 6, 47, 0, 171, 0, 3, 0, 0, 17]\n",
      "Book5 [51, 2, 1147, 0, 64, 0, 62, 0, 8, 0, 0, 7]\n",
      "Book6 [9, 25, 759, 10, 8, 0, 38, 0, 2, 0, 1, 1]\n",
      "Book7 [14, 3, 917, 0, 19, 0, 44, 1, 1, 0, 0, 0]\n"
     ]
    }
   ],
   "source": [
    "for book in hary_potter_books_paths:\n",
    "   \n",
    "    file = open(book,encoding='utf-8', mode='r')\n",
    "    text = file.read()\n",
    "\n",
    "    c = [0]*len(characters)\n",
    "    \n",
    "    for i,character in enumerate(characters):\n",
    "        c[i]= text.count(character)\n",
    "    \n",
    "    book_name = os.path.split(book)\n",
    "    book_name = os.path.splitext(book_name[1])[0]\n",
    "    print(book_name, c)\n",
    "  "
   ]
  },
  {
   "cell_type": "code",
   "execution_count": 8,
   "id": "7145fe86",
   "metadata": {},
   "outputs": [
    {
     "name": "stdout",
     "output_type": "stream",
     "text": [
      "Book1 [0, 0, 358, 0, 13, 26, 0, 0, 0, 0, 0, 0]\n",
      "Book2 [0, 19, 424, 10, 20, 1, 150, 0, 0, 0, 0, 0]\n",
      "Book3 [0, 0, 493, 0, 36, 0, 0, 0, 2, 0, 0, 4]\n",
      "Book4 [0, 0, 849, 5, 47, 0, 171, 0, 0, 0, 0, 7]\n",
      "Book5 [50, 2, 1120, 0, 64, 0, 60, 0, 10, 0, 0, 6]\n",
      "Book6 [9, 25, 739, 5, 8, 0, 38, 0, 0, 0, 0, 0]\n",
      "Book7 [14, 3, 871, 0, 19, 0, 44, 1, 0, 0, 0, 0]\n"
     ]
    }
   ],
   "source": [
    "for book in hary_potter_books_paths:\n",
    "    try:\n",
    "        file = open(book,encoding='utf-8', mode='r')\n",
    "        text = file.read()  \n",
    "        wordlist_of_the_text = text.split()\n",
    "\n",
    "        c = [0]*len(characters)\n",
    "        temp= []\n",
    "        characters_name_components = []\n",
    "        characters_name_components_numbers = 0\n",
    "        for j,w in enumerate(wordlist_of_the_text):\n",
    "\n",
    "\n",
    "            if len(temp) == 0:\n",
    "                for i,character in enumerate(characters):\n",
    "                    characters_name_components = character.split()\n",
    "                    characters_name_components_numbers = len(characters_name_components)\n",
    "                    if characters_name_components_numbers == 1:\n",
    "\n",
    "                        if w.find(character) != -1:\n",
    "                            c[i] += 1\n",
    "                    else:\n",
    "\n",
    "                        if w.find(characters_name_components[0]) != -1:\n",
    "\n",
    "                            temp.append(characters_name_components[0])\n",
    "                            break\n",
    "\n",
    "            else:\n",
    "                if (len(temp) < characters_name_components_numbers) and (w == characters_name_components[len(temp)] ):\n",
    "                    temp.append(characters_name_components[len(temp)])\n",
    "                elif len(temp) == characters_name_components_numbers:\n",
    "                    if temp == characters_name_components: \n",
    "                        c[characters.index(' '.join(characters_name_components))] += 1\n",
    "                        temp= []\n",
    "                        characters_name_components = []\n",
    "                        characters_name_components_numbers = 0\n",
    "                else:\n",
    "                        temp= []\n",
    "                        characters_name_components = []\n",
    "                        characters_name_components_numbers = 0\n",
    "\n",
    "\n",
    "        book_name = os.path.split(book)\n",
    "\n",
    "        book_name = os.path.splitext(book_name[1])[0]\n",
    "        print(book_name, c)\n",
    "    except:\n",
    "        book_name = os.path.split(book)\n",
    "        book_name = os.path.splitext(book_name[1])[0]\n",
    "        print(f\"in {book_name} an error occured\" )\n",
    "        continue"
   ]
  },
  {
   "cell_type": "code",
   "execution_count": 9,
   "id": "a7db4060",
   "metadata": {},
   "outputs": [],
   "source": [
    "def ranger(*args):\n",
    "    def extract_args(args):\n",
    "        start = 0 if len(args) == 1 else args[0]\n",
    "        end = args[1] if len(args) >= 2 else args[0]\n",
    "        step = args[2] if len(args) >= 3 else 1\n",
    "        update = args[3] if len(args) == 4 else False\n",
    "        assert 0 <= len(args) <= 4\n",
    "        return start, end, step, update\n",
    "\n",
    "    start, end, step, update = extract_args(args)\n",
    "    current = start\n",
    "\n",
    "    def update_current(i):\n",
    "        nonlocal current\n",
    "        current = i\n",
    "\n",
    "    def update_end(e):\n",
    "        nonlocal end\n",
    "        end = e\n",
    "\n",
    "    def update_step(s):\n",
    "        nonlocal step\n",
    "        step = s\n",
    "\n",
    "    while current < end:\n",
    "        if update:\n",
    "            yield [current, update_current, update_end, update_step]\n",
    "        else:\n",
    "            yield current\n",
    "        current += step"
   ]
  },
  {
   "cell_type": "code",
   "execution_count": 27,
   "id": "570400ce",
   "metadata": {},
   "outputs": [
    {
     "name": "stdout",
     "output_type": "stream",
     "text": [
      "Book1 [0, 0, 374, 0, 13, 26, 0, 0, 0, 0, 0, 0]\n",
      "Book2 [0, 19, 458, 24, 20, 1, 151, 0, 0, 0, 0, 0]\n",
      "Book3 [0, 0, 500, 0, 36, 0, 0, 0, 4, 0, 1, 4]\n",
      "Book4 [0, 0, 905, 7, 47, 0, 168, 0, 3, 0, 1, 26]\n",
      "Book5 [51, 2, 1153, 0, 64, 0, 62, 0, 11, 0, 0, 8]\n",
      "Book6 [9, 25, 763, 10, 8, 0, 38, 0, 2, 0, 1, 1]\n",
      "Book7 [14, 3, 928, 0, 19, 0, 44, 1, 1, 0, 0, 0]\n"
     ]
    }
   ],
   "source": [
    "for book in hary_potter_books_paths:\n",
    "    try:\n",
    "        \n",
    "        file = open(book,encoding='utf-8', mode='r')\n",
    "        text = file.read()  \n",
    "        wordlist_of_the_text = text.split()\n",
    "        words_len=len(wordlist_of_the_text)\n",
    "        c = [0]*len(characters)\n",
    "        for i,update_index,update_end,update_step in  ranger(1,words_len,1,True): \n",
    "\n",
    "            for j,character in enumerate(characters):\n",
    "                character_components=character.split()\n",
    "                char_components_num = len(character_components)\n",
    "                if char_components_num == 1:\n",
    "\n",
    "                    if wordlist_of_the_text[i].find(character) != -1:\n",
    "                        c[j] +=1\n",
    "                else:\n",
    "\n",
    "                    if wordlist_of_the_text[i].find(character_components[0]) != -1:\n",
    "                        part = ' '.join(wordlist_of_the_text[i:i+char_components_num])\n",
    "                        if part.find(character) != -1:\n",
    "                            c[j] += 1\n",
    "                            update_index(i+char_components_num)\n",
    "\n",
    "        book_name = os.path.split(book)\n",
    "\n",
    "        book_name = os.path.splitext(book_name[1])[0]\n",
    "        print(book_name, c)\n",
    "    except:\n",
    "        book_name = os.path.split(book)\n",
    "        book_name = os.path.splitext(book_name[1])[0]\n",
    "        print(f\"in {book_name} an error occured\" )\n",
    "        continue "
   ]
  },
  {
   "cell_type": "markdown",
   "id": "98ef6de8",
   "metadata": {},
   "source": [
    "# i think the last answer optimized memory usage"
   ]
  },
  {
   "cell_type": "code",
   "execution_count": 33,
   "id": "0b61bc99",
   "metadata": {},
   "outputs": [
    {
     "name": "stdout",
     "output_type": "stream",
     "text": [
      "Book1 dict_values([0, 0, 374, 0, 13, 27, 0, 0, 0, 0, 0, 0])\n",
      "Book2 dict_values([0, 19, 448, 19, 20, 4, 135, 0, 0, 0, 0, 0])\n",
      "Book3 dict_values([0, 0, 497, 0, 36, 4, 0, 0, 3, 0, 1, 4])\n",
      "Book4 dict_values([0, 0, 897, 6, 47, 4, 160, 0, 3, 0, 0, 18])\n",
      "Book5 dict_values([55, 2, 1149, 0, 64, 5, 58, 0, 8, 0, 0, 7])\n",
      "Book6 dict_values([9, 25, 760, 10, 8, 1, 35, 0, 2, 0, 1, 1])\n",
      "Book7 dict_values([14, 3, 917, 0, 19, 5, 44, 1, 1, 0, 0, 1])\n"
     ]
    }
   ],
   "source": [
    "\n",
    "for book in hary_potter_books_paths:\n",
    "    c = {character: 0 for character in characters}\n",
    "    with open(book,encoding='utf-8', mode='r') as f:\n",
    "        for line in f:\n",
    "            for character in characters:\n",
    "                if character.lower() in line.lower():  \n",
    "                    c[character] += 1\n",
    "    book_name = os.path.split(book)\n",
    "    book_name = os.path.splitext(book_name[1])[0]\n",
    "    #print(book_name ,c)\n",
    "    print(book_name ,c.values())"
   ]
  }
 ],
 "metadata": {
  "kernelspec": {
   "display_name": "Python 3 (ipykernel)",
   "language": "python",
   "name": "python3"
  },
  "language_info": {
   "codemirror_mode": {
    "name": "ipython",
    "version": 3
   },
   "file_extension": ".py",
   "mimetype": "text/x-python",
   "name": "python",
   "nbconvert_exporter": "python",
   "pygments_lexer": "ipython3",
   "version": "3.10.10"
  }
 },
 "nbformat": 4,
 "nbformat_minor": 5
}
